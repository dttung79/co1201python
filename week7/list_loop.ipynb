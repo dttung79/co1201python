{
 "cells": [
  {
   "cell_type": "code",
   "execution_count": null,
   "metadata": {},
   "outputs": [],
   "source": [
    "# Popular list algorithms: sum, max, min, count, find, sort"
   ]
  },
  {
   "cell_type": "code",
   "execution_count": 1,
   "metadata": {},
   "outputs": [
    {
     "name": "stdout",
     "output_type": "stream",
     "text": [
      "[24, 47, 46, 50, 32, 10, 54, 70, 9, 6]\n"
     ]
    }
   ],
   "source": [
    "import random as rd\n",
    "numbers = rd.sample(range(1, 100), 10) # create a list of 10 random numbers from 1 to 99\n",
    "print(numbers)"
   ]
  },
  {
   "cell_type": "code",
   "execution_count": 4,
   "metadata": {},
   "outputs": [
    {
     "name": "stdout",
     "output_type": "stream",
     "text": [
      "Sum of numbers: 348\n",
      "Sum of numbers: 348\n"
     ]
    }
   ],
   "source": [
    "s = 0\n",
    "for n in numbers:\n",
    "    s = s + n # s += n\n",
    "print(f'Sum of numbers: {s}')\n",
    "\n",
    "s = 0\n",
    "for i in range(len(numbers)):\n",
    "    s = s + numbers[i]\n",
    "\n",
    "print(f'Sum of numbers: {s}')"
   ]
  },
  {
   "cell_type": "code",
   "execution_count": 5,
   "metadata": {},
   "outputs": [
    {
     "name": "stdout",
     "output_type": "stream",
     "text": [
      "Maximum number: 70\n",
      "Maximum number: 70\n"
     ]
    }
   ],
   "source": [
    "m = numbers[0]\n",
    "for n in numbers:\n",
    "    if n > m:\n",
    "        m = n\n",
    "print(f'Maximum number: {m}')\n",
    "\n",
    "for i in range(len(numbers)):\n",
    "    if numbers[i] > m:\n",
    "        m = numbers[i]\n",
    "    \n",
    "print(f'Maximum number: {m}')"
   ]
  },
  {
   "cell_type": "code",
   "execution_count": 6,
   "metadata": {},
   "outputs": [
    {
     "name": "stdout",
     "output_type": "stream",
     "text": [
      "Minimum number: 6\n"
     ]
    }
   ],
   "source": [
    "# Find min\n",
    "m = numbers[0]\n",
    "for n in numbers:\n",
    "    if n < m:\n",
    "        m = n\n",
    "print(f'Minimum number: {m}')"
   ]
  },
  {
   "cell_type": "code",
   "execution_count": 7,
   "metadata": {},
   "outputs": [
    {
     "name": "stdout",
     "output_type": "stream",
     "text": [
      "The fruit that has the highest price is lemon with price 5.5\n"
     ]
    }
   ],
   "source": [
    "groceries = ['apple', 'mango', 'kiwi', 'lemon', 'coco']\n",
    "prices = [2.5, 4.5, 4.0, 5.5, 3.5]\n",
    "# Find the fruit that has the highest price\n",
    "i_max = 0\n",
    "price_max = prices[0]\n",
    "\n",
    "for i in range(len(prices)):\n",
    "    if prices[i] > price_max:\n",
    "        price_max = prices[i]\n",
    "        i_max = i\n",
    "\n",
    "print(f'The fruit that has the highest price is {groceries[i_max]} with price {price_max}')"
   ]
  },
  {
   "cell_type": "code",
   "execution_count": 8,
   "metadata": {},
   "outputs": [
    {
     "name": "stdout",
     "output_type": "stream",
     "text": [
      "Cheapest fruit is apple with price 2.5\n"
     ]
    }
   ],
   "source": [
    "# Find the fruit that has lowest price\n",
    "i_min = 0\n",
    "price_min = prices[0]\n",
    "\n",
    "for i in range(len(prices)):\n",
    "    if prices[i] < price_min:\n",
    "        price_min = prices[i]\n",
    "        i_min = i\n",
    "print(f'Cheapest fruit is {groceries[i_min]} with price {price_min}')"
   ]
  },
  {
   "cell_type": "code",
   "execution_count": 9,
   "metadata": {},
   "outputs": [
    {
     "name": "stdout",
     "output_type": "stream",
     "text": [
      "[24, 47, 46, 50, 32, 10, 54, 70, 9, 6]\n"
     ]
    }
   ],
   "source": [
    "print(numbers)"
   ]
  },
  {
   "cell_type": "code",
   "execution_count": 10,
   "metadata": {},
   "outputs": [
    {
     "name": "stdout",
     "output_type": "stream",
     "text": [
      "Number of even numbers: 8\n"
     ]
    }
   ],
   "source": [
    "count = 0\n",
    "for n in numbers:\n",
    "    if n % 2 == 0:\n",
    "        count += 1\n",
    "print(f'Number of even numbers: {count}')"
   ]
  },
  {
   "cell_type": "code",
   "execution_count": 11,
   "metadata": {},
   "outputs": [
    {
     "name": "stdout",
     "output_type": "stream",
     "text": [
      "Number of products that has total value greater than 100: 3\n"
     ]
    }
   ],
   "source": [
    "products = ['notebook', 'pencil', 'pen', 'eraser', 'ruler', 'sharpener']\n",
    "stocks = [100, 120, 80, 50, 60, 90]\n",
    "prices = [2.5, 1.5, 2.0, 1.0, 1.5, 1.0]\n",
    "# Count how many products that has total value greater than 100\n",
    "count = 0\n",
    "for i in range(len(prices)):\n",
    "    if prices[i] * stocks[i] > 100:\n",
    "        count += 1\n",
    "print(f'Number of products that has total value greater than 100: {count}')"
   ]
  },
  {
   "cell_type": "code",
   "execution_count": 13,
   "metadata": {},
   "outputs": [
    {
     "name": "stdout",
     "output_type": "stream",
     "text": [
      "Product table not found\n"
     ]
    }
   ],
   "source": [
    "# Enter the product name, print the price & stock\n",
    "name = input('Enter the product name: ')\n",
    "found_pos = None\n",
    "for i in range(len(products)):\n",
    "    if products[i] == name:\n",
    "        found_pos = i\n",
    "        break\n",
    "if found_pos == None:\n",
    "    print(f'Product {name} not found')\n",
    "else:\n",
    "    print(f'Price: {prices[found_pos]}, Stock: {stocks[found_pos]}')"
   ]
  },
  {
   "cell_type": "code",
   "execution_count": null,
   "metadata": {},
   "outputs": [],
   "source": [
    "# Find products with price >= 2.0\n",
    "found_products = []\n",
    "for i in range(len(prices)):\n",
    "    if prices[i] >= 2.0:\n",
    "        found_products.append(products[i])\n",
    "\n",
    "if len(found_products) == 0:\n",
    "    print('No product found')\n",
    "else:\n",
    "    print('Found products: ', end='')\n",
    "\n",
    "# Fund products with total value <= 150"
   ]
  },
  {
   "cell_type": "code",
   "execution_count": 14,
   "metadata": {},
   "outputs": [],
   "source": [
    "students = ['John', 'Peter', 'Mary', 'Jane', 'Tom', 'Jerry', 'Alice', 'Bob']\n",
    "departments = ['IT', 'GD', 'IT', 'Biz', 'Biz', 'GD', 'IT', 'GD']\n",
    "GPAs = [3.5, 3.0, 3.2, 3.6, 3.8, 3.9, 3.7, 3.4]"
   ]
  },
  {
   "cell_type": "code",
   "execution_count": null,
   "metadata": {},
   "outputs": [],
   "source": [
    "# Enter student name, find student and print his/her GPA and department"
   ]
  },
  {
   "cell_type": "code",
   "execution_count": null,
   "metadata": {},
   "outputs": [],
   "source": [
    "# Enter department name, find students in that department and print their names and GPAs"
   ]
  },
  {
   "cell_type": "code",
   "execution_count": null,
   "metadata": {},
   "outputs": [],
   "source": [
    "# Find best student (highest GPA)"
   ]
  },
  {
   "cell_type": "code",
   "execution_count": null,
   "metadata": {},
   "outputs": [],
   "source": [
    "# Enter a GPA, count how many students have GPA >= that GPA"
   ]
  },
  {
   "cell_type": "code",
   "execution_count": null,
   "metadata": {},
   "outputs": [],
   "source": [
    "# Calculate average GPA of students in all departments\n",
    "\n",
    "# Calculate average GPA of students in each department"
   ]
  }
 ],
 "metadata": {
  "kernelspec": {
   "display_name": "Python 3",
   "language": "python",
   "name": "python3"
  },
  "language_info": {
   "codemirror_mode": {
    "name": "ipython",
    "version": 3
   },
   "file_extension": ".py",
   "mimetype": "text/x-python",
   "name": "python",
   "nbconvert_exporter": "python",
   "pygments_lexer": "ipython3",
   "version": "3.9.12"
  },
  "orig_nbformat": 4
 },
 "nbformat": 4,
 "nbformat_minor": 2
}
