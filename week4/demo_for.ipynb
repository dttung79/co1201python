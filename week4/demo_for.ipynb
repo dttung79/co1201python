{
 "cells": [
  {
   "cell_type": "code",
   "execution_count": null,
   "metadata": {},
   "outputs": [],
   "source": [
    "# for syntax: for item in sequence:\n",
    "for i in range(10):\n",
    "    print(i, 'Hello')"
   ]
  },
  {
   "cell_type": "code",
   "execution_count": null,
   "metadata": {},
   "outputs": [],
   "source": [
    "for i in range(0, 10, 2):\n",
    "    print(i, 'Hello')"
   ]
  },
  {
   "cell_type": "code",
   "execution_count": null,
   "metadata": {},
   "outputs": [],
   "source": [
    "for i in range(10, 0, -1):\n",
    "    print(i, 'Hello')"
   ]
  },
  {
   "cell_type": "code",
   "execution_count": 16,
   "metadata": {},
   "outputs": [
    {
     "name": "stdout",
     "output_type": "stream",
     "text": [
      "Sum from 1 to 10 is 55\n"
     ]
    }
   ],
   "source": [
    "# Sum from 1 to n\n",
    "n = int(input('Enter n: '))\n",
    "s = 0\n",
    "for i in range(1, n + 1):\n",
    "    s += i\n",
    "print('Sum from 1 to', n, 'is', s)"
   ]
  },
  {
   "cell_type": "code",
   "execution_count": 19,
   "metadata": {},
   "outputs": [
    {
     "name": "stdout",
     "output_type": "stream",
     "text": [
      "10! = 3628800\n",
      "Sum of even numbers from 1 to 10 is 30\n",
      "Product of odd numbers from 1 to 10 is 945\n"
     ]
    }
   ],
   "source": [
    "# Ex1: Calculate n!\n",
    "p = 1\n",
    "for i in range(1, n+1):\n",
    "    p = p * i\n",
    "print(f'{n}! = {p}')\n",
    "# Ex2: Calculate sum of even numbers from 1 to n\n",
    "s = 0\n",
    "for i in range(2, n+1, 2):\n",
    "    s += i\n",
    "print(f'Sum of even numbers from 1 to {n} is {s}')\n",
    "# Ex3: Calculate product of odd numbers from 1 to n\n",
    "p = 1\n",
    "for i in range(1, n+1, 2):\n",
    "    p *= i\n",
    "print(f'Product of odd numbers from 1 to {n} is {p}')"
   ]
  },
  {
   "cell_type": "code",
   "execution_count": null,
   "metadata": {},
   "outputs": [],
   "source": [
    "# Ex4: Print multiplication table of n \n",
    "n = int(input('Enter n: '))\n",
    "for i in range(1, 11):\n",
    "    print(f'{n:2} x {i:2} = {n*i:2}')"
   ]
  },
  {
   "cell_type": "code",
   "execution_count": null,
   "metadata": {},
   "outputs": [],
   "source": [
    "# Nested for loop\n",
    "# Print triangle of asterisks\n",
    "n = int(input('Enter n: '))\n",
    "for i in range(n + 1):\n",
    "    for k in range(i):\n",
    "        print('* ', end='')\n",
    "    print()"
   ]
  },
  {
   "cell_type": "code",
   "execution_count": null,
   "metadata": {},
   "outputs": [],
   "source": [
    "# Ex5.1: print triangle of numbers\n",
    "# 1\n",
    "# 2 2\n",
    "# 3 3 3\n",
    "# 4 4 4 4\n",
    "for i in range(1, n + 1):\n",
    "    for k in range(i):\n",
    "        print(i, end=' ')\n",
    "    print()\n",
    "# Ex5.2: print triangle of numbers\n",
    "# 1\n",
    "# 1 2\n",
    "# 1 2 3\n",
    "# 1 2 3 4\n",
    "for i in range(1, n + 1):\n",
    "    for k in range(i):\n",
    "        print(k + 1, end=' ')\n",
    "    print()"
   ]
  }
 ],
 "metadata": {
  "kernelspec": {
   "display_name": "Python 3",
   "language": "python",
   "name": "python3"
  },
  "language_info": {
   "codemirror_mode": {
    "name": "ipython",
    "version": 3
   },
   "file_extension": ".py",
   "mimetype": "text/x-python",
   "name": "python",
   "nbconvert_exporter": "python",
   "pygments_lexer": "ipython3",
   "version": "3.9.12"
  },
  "orig_nbformat": 4
 },
 "nbformat": 4,
 "nbformat_minor": 2
}
