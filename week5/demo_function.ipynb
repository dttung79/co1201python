{
 "cells": [
  {
   "cell_type": "code",
   "execution_count": 1,
   "metadata": {},
   "outputs": [],
   "source": [
    "def hi(name):           # name is a parameter\n",
    "    print('Hi', name)"
   ]
  },
  {
   "cell_type": "code",
   "execution_count": null,
   "metadata": {},
   "outputs": [],
   "source": [
    "hi('John')           # John is an argument\n",
    "hi('Peter')\n",
    "name = input('Enter a name: ')\n",
    "hi(name)         # name is an argument"
   ]
  },
  {
   "cell_type": "code",
   "execution_count": 8,
   "metadata": {},
   "outputs": [],
   "source": [
    "def hello_world():\n",
    "    print('Hello Python world')"
   ]
  },
  {
   "cell_type": "code",
   "execution_count": 9,
   "metadata": {},
   "outputs": [
    {
     "name": "stdout",
     "output_type": "stream",
     "text": [
      "Hello Python world\n",
      "Hello Python world\n"
     ]
    }
   ],
   "source": [
    "hello_world()\n",
    "hello_world()"
   ]
  },
  {
   "cell_type": "code",
   "execution_count": 12,
   "metadata": {},
   "outputs": [],
   "source": [
    "# Write a function print_slogan\n",
    "# parameters:\n",
    "# - slogan: a string\n",
    "# - symbol: a string\n",
    "def print_slogal(slogan, symbol):\n",
    "    n = len(slogan) + 4\n",
    "    for i in range(n):\n",
    "        print(symbol, end='')\n",
    "    print()\n",
    "    print(symbol, slogan, symbol)\n",
    "    for i in range(n):\n",
    "        print(symbol, end='')"
   ]
  },
  {
   "cell_type": "code",
   "execution_count": null,
   "metadata": {},
   "outputs": [],
   "source": [
    "print_slogal('Hello Python', '~')"
   ]
  },
  {
   "cell_type": "code",
   "execution_count": 21,
   "metadata": {},
   "outputs": [],
   "source": [
    "def find_max(a, b):\n",
    "    if a > b:\n",
    "        return a\n",
    "    else:\n",
    "        return b\n",
    "    print('This line will never be executed')"
   ]
  },
  {
   "cell_type": "code",
   "execution_count": null,
   "metadata": {},
   "outputs": [],
   "source": [
    "m = find_max(10, 20)\n",
    "print(m)"
   ]
  },
  {
   "cell_type": "code",
   "execution_count": 17,
   "metadata": {},
   "outputs": [],
   "source": [
    "# Write a function calculate the average of 3 grades and return it\n",
    "def average(math, english, physics):\n",
    "    total = math + english + physics\n",
    "    avg = total / 3\n",
    "    return avg"
   ]
  },
  {
   "cell_type": "code",
   "execution_count": 18,
   "metadata": {},
   "outputs": [
    {
     "name": "stdout",
     "output_type": "stream",
     "text": [
      "Average: 8.333333333333334\n"
     ]
    }
   ],
   "source": [
    "math = 8\n",
    "english = 9.5\n",
    "physics = 7.5\n",
    "avg = average(math, english, physics)\n",
    "print('Average:', avg)"
   ]
  },
  {
   "cell_type": "code",
   "execution_count": 24,
   "metadata": {},
   "outputs": [],
   "source": [
    "# Write a function to calculate the interest of a bank account\n",
    "# parameters:\n",
    "# - balance: the current balance of the account\n",
    "# - month: the number of months\n",
    "# if month < 6, the interest rate is 5%\n",
    "# if month >= 6, the interest rate is 8%\n",
    "# return the new balance (old balance + interest)\n",
    "def cal_interest(balance, months):\n",
    "    rate = 0.05 if months < 6 else 0.08\n",
    "    new_balance = balance * (1 + rate * months)\n",
    "    return new_balance"
   ]
  },
  {
   "cell_type": "code",
   "execution_count": 26,
   "metadata": {},
   "outputs": [
    {
     "name": "stdout",
     "output_type": "stream",
     "text": [
      "New balance: $1800.0\n"
     ]
    }
   ],
   "source": [
    "balance = 1000\n",
    "months = 10\n",
    "new_balance = cal_interest(balance, months)\n",
    "print(f'New balance: ${new_balance}')"
   ]
  }
 ],
 "metadata": {
  "kernelspec": {
   "display_name": "Python 3",
   "language": "python",
   "name": "python3"
  },
  "language_info": {
   "codemirror_mode": {
    "name": "ipython",
    "version": 3
   },
   "file_extension": ".py",
   "mimetype": "text/x-python",
   "name": "python",
   "nbconvert_exporter": "python",
   "pygments_lexer": "ipython3",
   "version": "3.9.12"
  },
  "orig_nbformat": 4
 },
 "nbformat": 4,
 "nbformat_minor": 2
}
