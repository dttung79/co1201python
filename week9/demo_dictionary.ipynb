{
 "cells": [
  {
   "cell_type": "code",
   "execution_count": null,
   "metadata": {},
   "outputs": [],
   "source": [
    "english_words = {'hello': 'bonjour', 'morning': 'matin', 'world': 'monde'}\n",
    "print(english_words['hello'])"
   ]
  },
  {
   "cell_type": "code",
   "execution_count": null,
   "metadata": {},
   "outputs": [],
   "source": [
    "word = input('Enter an English word: ')\n",
    "if word in english_words:\n",
    "    print('French translation:', english_words[word])\n",
    "else:\n",
    "    print(f'Word {word} not found in dictionary')"
   ]
  },
  {
   "cell_type": "code",
   "execution_count": null,
   "metadata": {},
   "outputs": [],
   "source": [
    "new_word = input('Enter a new word: ')\n",
    "new_french_translation = input('Enter the French translation: ')\n",
    "if new_word not in english_words:\n",
    "    english_words[new_word] = new_french_translation\n",
    "    print(english_words)\n",
    "else:\n",
    "    print(f'{new_word} is already in the dictionary')"
   ]
  },
  {
   "cell_type": "code",
   "execution_count": 14,
   "metadata": {},
   "outputs": [
    {
     "name": "stdout",
     "output_type": "stream",
     "text": [
      "sdfsdfsdf is not in the dictionary\n"
     ]
    }
   ],
   "source": [
    "# Exercise: enter a word that is already in the dictionary, change the translation, and print the new dictionary\n",
    "edit_word = input('Enter a word to edit: ')\n",
    "new_french_translation = input('Enter the French translation: ')\n",
    "if edit_word in english_words:\n",
    "    english_words[edit_word] = new_french_translation\n",
    "    print(english_words)\n",
    "else:\n",
    "    print(f'{edit_word} is not in the dictionary')"
   ]
  },
  {
   "cell_type": "code",
   "execution_count": 16,
   "metadata": {},
   "outputs": [
    {
     "name": "stdout",
     "output_type": "stream",
     "text": [
      "buy deleted\n",
      "{'hello': 'bonjour', 'morning': 'matin', 'world': 'monde', 'dog': 'chien', 'cat': 'chat'}\n"
     ]
    }
   ],
   "source": [
    "delete_word = input('Enter a word to delete: ')\n",
    "if delete_word in english_words:\n",
    "    del english_words[delete_word] # similar: english_words.pop(delete_word)\n",
    "    print(f'{delete_word} deleted')\n",
    "    print(english_words)\n",
    "else:\n",
    "    print(f'{delete_word} not found')"
   ]
  },
  {
   "cell_type": "code",
   "execution_count": 19,
   "metadata": {},
   "outputs": [
    {
     "name": "stdout",
     "output_type": "stream",
     "text": [
      "124\n",
      "84\n",
      "It's: 1\n",
      "been: 2\n",
      "a: 4\n",
      "long: 2\n",
      "day: 1\n",
      "without: 1\n",
      "you,: 1\n",
      "my: 1\n",
      "friend: 1\n",
      "And: 1\n",
      "I'll: 2\n",
      "tell: 2\n",
      "you: 8\n",
      "all: 2\n",
      "about: 2\n",
      "it: 3\n",
      "when: 2\n",
      "I: 5\n",
      "see: 5\n",
      "again: 3\n",
      "We've: 1\n",
      "come: 1\n",
      "way: 1\n",
      "from: 1\n",
      "where: 1\n",
      "we: 4\n",
      "began: 1\n",
      "Oh,: 1\n",
      "When: 1\n",
      "Damn,: 1\n",
      "who: 1\n",
      "knew?: 1\n",
      "All: 1\n",
      "the: 4\n",
      "planes: 1\n",
      "flew,: 1\n",
      "good: 1\n",
      "things: 2\n",
      "through: 1\n",
      "That: 1\n",
      "I'd: 1\n",
      "be: 1\n",
      "standing: 1\n",
      "right: 1\n",
      "here: 1\n",
      "talking: 1\n",
      "to: 3\n",
      "'Bout: 1\n",
      "another: 1\n",
      "path,: 1\n",
      "know: 1\n",
      "loved: 1\n",
      "hit: 1\n",
      "road: 1\n",
      "and: 1\n",
      "laugh: 1\n",
      "But: 1\n",
      "something: 1\n",
      "told: 1\n",
      "me: 1\n",
      "that: 1\n",
      "wouldn't: 1\n",
      "last: 1\n",
      "Had: 1\n",
      "switch: 1\n",
      "up,: 1\n",
      "look: 1\n",
      "at: 1\n",
      "different,: 1\n",
      "bigger: 1\n",
      "picture: 1\n",
      "Those: 1\n",
      "were: 1\n",
      "days,: 1\n",
      "hard: 1\n",
      "work: 1\n",
      "forever: 1\n",
      "pays: 1\n",
      "Now: 1\n",
      "in: 2\n",
      "better: 2\n",
      "place: 1\n",
      "(see: 1\n",
      "place): 1\n"
     ]
    }
   ],
   "source": [
    "content = \"It's been a long day without you, my friend And I'll tell you all about it when I see you again We've come a long way from where we began Oh, I'll tell you all about it when I see you again When I see you again Damn, who knew? All the planes we flew, good things we been through That I'd be standing right here talking to you 'Bout another path, I know we loved to hit the road and laugh But something told me that it wouldn't last Had to switch up, look at things different, see the bigger picture Those were the days, hard work forever pays Now I see you in a better place (see you in a better place)\"\n",
    "\n",
    "words = content.split()\n",
    "print(len(words))\n",
    "\n",
    "word_count = {}\n",
    "for w in words:\n",
    "    if w not in word_count:\n",
    "        word_count[w] = 1\n",
    "    else:\n",
    "        word_count[w] += 1\n",
    "\n",
    "print(len(word_count))\n",
    "for w in word_count:\n",
    "    print(f'{w}: {word_count[w]}')"
   ]
  },
  {
   "cell_type": "code",
   "execution_count": 20,
   "metadata": {},
   "outputs": [
    {
     "name": "stdout",
     "output_type": "stream",
     "text": [
      "{'hello': 'bonjour', 'morning': 'matin', 'world': 'monde', 'dog': 'chien', 'cat': 'chat'}\n"
     ]
    }
   ],
   "source": [
    "print(english_words)"
   ]
  },
  {
   "cell_type": "code",
   "execution_count": 21,
   "metadata": {},
   "outputs": [
    {
     "name": "stdout",
     "output_type": "stream",
     "text": [
      "[('hello', 'bonjour'), ('morning', 'matin'), ('world', 'monde'), ('dog', 'chien'), ('cat', 'chat')]\n"
     ]
    }
   ],
   "source": [
    "print(list(english_words.items()))"
   ]
  }
 ],
 "metadata": {
  "kernelspec": {
   "display_name": "Python 3",
   "language": "python",
   "name": "python3"
  },
  "language_info": {
   "codemirror_mode": {
    "name": "ipython",
    "version": 3
   },
   "file_extension": ".py",
   "mimetype": "text/x-python",
   "name": "python",
   "nbconvert_exporter": "python",
   "pygments_lexer": "ipython3",
   "version": "3.9.12"
  },
  "orig_nbformat": 4
 },
 "nbformat": 4,
 "nbformat_minor": 2
}
